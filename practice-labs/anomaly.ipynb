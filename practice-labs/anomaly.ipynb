{
 "cells": [
  {
   "cell_type": "markdown",
   "metadata": {},
   "source": [
    "### Anomaly Detection \n",
    "\n",
    "* You have m = 307 unlabelled samples of how the servers are performing\n",
    "* The dataset contains two features -- throughput (mb/s) and lactency of response (ms)\n",
    "* Most examples are normal but a few servers are acting anomalously within the dataset\n",
    "* You will first start on a 2D dataset that can be visualized"
   ]
  },
  {
   "cell_type": "code",
   "execution_count": 1,
   "metadata": {},
   "outputs": [
    {
     "name": "stdout",
     "output_type": "stream",
     "text": [
      "(307, 2) (307, 2) (307,)\n"
     ]
    },
    {
     "data": {
      "image/png": "[encoded data removed]",
      "text/plain": [
       "<Figure size 640x480 with 1 Axes>"
      ]
     },
     "metadata": {},
     "output_type": "display_data"
    }
   ],
   "source": [
    "import numpy as np\n",
    "import matplotlib.pyplot as plt\n",
    "\n",
    "def load_data():\n",
    "    X = np.load(\"data/X_part1.npy\")\n",
    "    X_val = np.load(\"data/X_val_part1.npy\")\n",
    "    y_val = np.load(\"data/y_val_part1.npy\")\n",
    "    return X, X_val, y_val\n",
    "\n",
    "# X train is used to fit a Gaussian distribution\n",
    "# X val and y val are used for cross validation set to select a threshold\n",
    "\n",
    "X_train, X_val, y_val = load_data()\n",
    "\n",
    "print(X_train.shape, X_val.shape, y_val.shape)\n",
    "\n",
    "# Plot a scatter plot using each feature for the axis\n",
    "plt.scatter(X_train[:, 0], X_train[:, 1], marker='x')\n",
    "plt.title(\"The first dataset\")\n",
    "plt.xlabel(\"Latency (ms)\")\n",
    "plt.ylabel(\"Throughput (mb/s)\")\n",
    "plt.axis([0, 30, 0, 30])\n",
    "plt.show()"
   ]
  },
  {
   "cell_type": "code",
   "execution_count": 3,
   "metadata": {},
   "outputs": [
    {
     "name": "stdout",
     "output_type": "stream",
     "text": [
      "[14.11222578 14.99771051] [1.83263141 1.70974533]\n"
     ]
    }
   ],
   "source": [
    "def estimate_gaussian(X):\n",
    "    m, n = X.shape\n",
    "\n",
    "    '''\n",
    "    mu, var = np.zeros(n), np.zeros(n)\n",
    "    for i in range(n):\n",
    "        mu[i] = np.mean(X[:, i], axis=0)\n",
    "        var[i] = np.var(X[:, i], axis=0)\n",
    "    '''\n",
    "\n",
    "    mu = 1/m * np.sum(X, axis = 0)\n",
    "    var = 1/m * np.sum((X - mu) ** 2, axis = 0)\n",
    "    \n",
    "    return mu, var\n",
    "\n",
    "mu, var = estimate_gaussian(X_train)\n",
    "print(mu, var)"
   ]
  },
  {
   "cell_type": "markdown",
   "metadata": {},
   "source": [
    "#### Multivariate Gaussian Distribution\n",
    "\n",
    "This is of the utmost importance to understand what exactly is going on with the linear algebra here. It is just the vectorized implementation of the probability calculation in our notes!"
   ]
  },
  {
   "cell_type": "code",
   "execution_count": 6,
   "metadata": {},
   "outputs": [],
   "source": [
    "def multivariate_gaussian(X, mu, var):\n",
    "\n",
    "    \"\"\"\n",
    "    Computes the probability \n",
    "    density function of the examples X under the multivariate gaussian \n",
    "    distribution with parameters mu and var. If var is a matrix, it is\n",
    "    treated as the covariance matrix. If var is a vector, it is treated\n",
    "    as the var values of the variances in each dimension (a diagonal\n",
    "    covariance matrix\n",
    "    \"\"\"\n",
    "\n",
    "    k = len(mu)\n",
    "    \n",
    "    if var.ndim == 1:\n",
    "        var = np.diag(var)\n",
    "    \n",
    "    X = X - mu\n",
    "\n",
    "    # This is the vectorized version of the multivariate gaussian distribution\n",
    "    # In the notes it is given as the product of probabilities of each feature...\n",
    "    p = (2 * np.pi) ** (-k/2) * np.linalg.det(var)**(-0.5) * \\\n",
    "        np.exp(-0.5 * np.sum(np.matmul(X, np.linalg.pinv(var)) * X, axis = 1))\n",
    "    \n",
    "    return p"
   ]
  },
  {
   "cell_type": "code",
   "execution_count": 9,
   "metadata": {},
   "outputs": [
    {
     "name": "stdout",
     "output_type": "stream",
     "text": [
      "8.990852779269495e-05 0.8750000000000001\n"
     ]
    },
    {
     "name": "stderr",
     "output_type": "stream",
     "text": [
      "/var/folders/qg/563v30d5119bt_zbv8qgbst80000gn/T/ipykernel_15783/2788454878.py:19: RuntimeWarning: invalid value encountered in scalar divide\n",
      "  prec = tp / (tp + fp)\n"
     ]
    }
   ],
   "source": [
    "def select_threshold(y_val, p_val):\n",
    "    '''\n",
    "    Finds the best threshold to use for selecting outliers \n",
    "    based on the results from a validation set (p_val) \n",
    "    and the ground truth (y_val) using the F1 score.\n",
    "    '''\n",
    "    best_epsilon = 0\n",
    "    best_f1 = 0\n",
    "    f1 = 0\n",
    "    step_size = (max(p_val) - min(p_val)) / 1000\n",
    "\n",
    "    for epsilon in np.arange(min(p_val), max(p_val), step_size):\n",
    "        predictions = (p_val < epsilon)\n",
    "        # if you have several binary values in an nd binary vector, \n",
    "        # you can find how many of them are 0 by doing np.sum(v == 0)\n",
    "        tp = np.sum((predictions == 1) & (y_val == 1)) # true positives\n",
    "        fp = np.sum((predictions == 1) & (y_val == 0)) # false positives\n",
    "        fn = np.sum((predictions == 0) & (y_val == 1)) # false negatives\n",
    "        prec = tp / (tp + fp)\n",
    "        rec = tp / (tp + fn)\n",
    "        f1 = 2 * prec * rec / (prec + rec)\n",
    "\n",
    "        if f1 > best_f1:\n",
    "            best_f1 = f1\n",
    "            best_epsilon = epsilon\n",
    "    \n",
    "    return best_epsilon, best_f1\n",
    "\n",
    "p_val = multivariate_gaussian(X_val, mu, var)\n",
    "epsilon, f1 = select_threshold(y_val, p_val)\n",
    "print(epsilon, f1)"
   ]
  },
  {
   "cell_type": "code",
   "execution_count": 13,
   "metadata": {},
   "outputs": [
    {
     "name": "stdout",
     "output_type": "stream",
     "text": [
      "(array([300, 301, 303, 304, 305, 306]),)\n"
     ]
    }
   ],
   "source": [
    "p = multivariate_gaussian(X_train, mu, var)\n",
    "outliers = np.where(p < epsilon)\n",
    "print(outliers)"
   ]
  },
  {
   "cell_type": "markdown",
   "metadata": {},
   "source": [
    "#### High Dimensional Dataset"
   ]
  },
  {
   "cell_type": "code",
   "execution_count": 14,
   "metadata": {},
   "outputs": [
    {
     "name": "stdout",
     "output_type": "stream",
     "text": [
      "(1000, 11) (100, 11) (100,)\n"
     ]
    }
   ],
   "source": [
    "def load_data_multi():\n",
    "    X = np.load(\"data/X_part2.npy\")\n",
    "    X_val = np.load(\"data/X_val_part2.npy\")\n",
    "    y_val = np.load(\"data/y_val_part2.npy\")\n",
    "    return X, X_val, y_val\n",
    "\n",
    "X_train_high, X_val_high, y_val_high = load_data_multi()\n",
    "\n",
    "print(X_train_high.shape, X_val_high.shape, y_val_high.shape)"
   ]
  },
  {
   "cell_type": "markdown",
   "metadata": {},
   "source": [
    "We will follow the same procedure:\n",
    "* Estimate Gaussian parameters (mu and var for each feature)\n",
    "* Evaluate probabilities for training data from the estimated parameters, as well as for CV set\n",
    "* Use select threshold to find best threshold epsilon"
   ]
  },
  {
   "cell_type": "code",
   "execution_count": 15,
   "metadata": {},
   "outputs": [
    {
     "name": "stdout",
     "output_type": "stream",
     "text": [
      "1.377228890761358e-18 0.6153846153846154\n",
      "# of outliers: 117\n"
     ]
    },
    {
     "name": "stderr",
     "output_type": "stream",
     "text": [
      "/var/folders/qg/563v30d5119bt_zbv8qgbst80000gn/T/ipykernel_15783/2788454878.py:19: RuntimeWarning: invalid value encountered in scalar divide\n",
      "  prec = tp / (tp + fp)\n"
     ]
    }
   ],
   "source": [
    "mu_high, var_high = estimate_gaussian(X_train_high)\n",
    "p_high = multivariate_gaussian(X_train_high, mu_high, var_high)\n",
    "p_val_high = multivariate_gaussian(X_val_high, mu_high, var_high)\n",
    "epsilon_high, f1_high = select_threshold(y_val_high, p_val_high)\n",
    "print(epsilon_high, f1_high)\n",
    "print(\"# of outliers: %d\" % np.sum(p_high < epsilon_high))"
   ]
  }
 ],
 "metadata": {
  "kernelspec": {
   "display_name": "tf",
   "language": "python",
   "name": "python3"
  },
  "language_info": {
   "codemirror_mode": {
    "name": "ipython",
    "version": 3
   },
   "file_extension": ".py",
   "mimetype": "text/x-python",
   "name": "python",
   "nbconvert_exporter": "python",
   "pygments_lexer": "ipython3",
   "version": "3.10.14"
  }
 },
 "nbformat": 4,
 "nbformat_minor": 2
}
